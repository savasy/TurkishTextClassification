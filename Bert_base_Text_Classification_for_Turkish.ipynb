{
 "cells": [
  {
   "cell_type": "markdown",
   "metadata": {
    "colab": {
     "base_uri": "https://localhost:8080/",
     "height": 35
    },
    "colab_type": "code",
    "id": "xcmf45Ns81Lq",
    "outputId": "f89b3c20-1bae-423a-965e-0c95f77467f1"
   },
   "source": [
    "# Turkish Text / Document Classification with Bert "
   ]
  },
  {
   "cell_type": "code",
   "execution_count": 2,
   "metadata": {},
   "outputs": [],
   "source": [
    "import os"
   ]
  },
  {
   "cell_type": "code",
   "execution_count": 3,
   "metadata": {
    "colab": {
     "base_uri": "https://localhost:8080/",
     "height": 145
    },
    "colab_type": "code",
    "id": "np8j3GdP9TGH",
    "outputId": "a55b45a3-6a74-4a56-ef0d-324871ae592a"
   },
   "outputs": [
    {
     "data": {
      "text/plain": [
       "['outputs',\n",
       " 'my_simple_transformation.py',\n",
       " 'runs',\n",
       " '.ipynb_checkpoints',\n",
       " 'Bert_base_Text_Classification_for_Turkish.ipynb',\n",
       " 'eval.csv',\n",
       " 'cache_dir',\n",
       " '7allV03.csv']"
      ]
     },
     "execution_count": 3,
     "metadata": {},
     "output_type": "execute_result"
    }
   ],
   "source": [
    "os.listdir()"
   ]
  },
  {
   "cell_type": "markdown",
   "metadata": {},
   "source": [
    "## Loading data for Turkish text classification"
   ]
  },
  {
   "cell_type": "code",
   "execution_count": 4,
   "metadata": {
    "colab": {
     "base_uri": "https://localhost:8080/",
     "height": 198
    },
    "colab_type": "code",
    "id": "bEKoqPT19Jy3",
    "outputId": "e5f6fed0-8b8e-4f94-9ba6-c765af8b7422"
   },
   "outputs": [
    {
     "data": {
      "text/html": [
       "<div>\n",
       "<style scoped>\n",
       "    .dataframe tbody tr th:only-of-type {\n",
       "        vertical-align: middle;\n",
       "    }\n",
       "\n",
       "    .dataframe tbody tr th {\n",
       "        vertical-align: top;\n",
       "    }\n",
       "\n",
       "    .dataframe thead th {\n",
       "        text-align: right;\n",
       "    }\n",
       "</style>\n",
       "<table border=\"1\" class=\"dataframe\">\n",
       "  <thead>\n",
       "    <tr style=\"text-align: right;\">\n",
       "      <th></th>\n",
       "      <th>text</th>\n",
       "      <th>labels</th>\n",
       "    </tr>\n",
       "  </thead>\n",
       "  <tbody>\n",
       "    <tr>\n",
       "      <th>0</th>\n",
       "      <td>mars tan önemli ipucu ! abd_ulusal_havacılık ...</td>\n",
       "      <td>0</td>\n",
       "    </tr>\n",
       "    <tr>\n",
       "      <th>1</th>\n",
       "      <td>bu sözler sarıgül ü ağlattı şişli den sarıyer...</td>\n",
       "      <td>4</td>\n",
       "    </tr>\n",
       "    <tr>\n",
       "      <th>2</th>\n",
       "      <td>samsung_galaxy s4 bilgileri samsung  un başa...</td>\n",
       "      <td>6</td>\n",
       "    </tr>\n",
       "    <tr>\n",
       "      <th>3</th>\n",
       "      <td>israil den suriye ye uyarı ateşi israil ordus...</td>\n",
       "      <td>0</td>\n",
       "    </tr>\n",
       "    <tr>\n",
       "      <th>4</th>\n",
       "      <td>elvan_abeylegesse yeni sezondan umutlu milli ...</td>\n",
       "      <td>5</td>\n",
       "    </tr>\n",
       "  </tbody>\n",
       "</table>\n",
       "</div>"
      ],
      "text/plain": [
       "                                                text  labels\n",
       "0   mars tan önemli ipucu ! abd_ulusal_havacılık ...       0\n",
       "1   bu sözler sarıgül ü ağlattı şişli den sarıyer...       4\n",
       "2   samsung_galaxy s4 bilgileri samsung  un başa...       6\n",
       "3   israil den suriye ye uyarı ateşi israil ordus...       0\n",
       "4   elvan_abeylegesse yeni sezondan umutlu milli ...       5"
      ]
     },
     "execution_count": 4,
     "metadata": {},
     "output_type": "execute_result"
    }
   ],
   "source": [
    "\n",
    "import pandas as pd\n",
    "df=pd.read_csv(\"eval.csv\", )\n",
    "df.head()"
   ]
  },
  {
   "cell_type": "markdown",
   "metadata": {},
   "source": [
    "## Requirements"
   ]
  },
  {
   "cell_type": "code",
   "execution_count": 5,
   "metadata": {
    "colab": {
     "base_uri": "https://localhost:8080/",
     "height": 326
    },
    "colab_type": "code",
    "id": "_kpHlA6DGM4t",
    "outputId": "538d61dd-6db9-4537-e477-d0eb81ff20c9"
   },
   "outputs": [],
   "source": [
    "# you need to install transform if you have not\n",
    "#!pip install transformers"
   ]
  },
  {
   "cell_type": "code",
   "execution_count": 7,
   "metadata": {
    "colab": {},
    "colab_type": "code",
    "id": "025bZuAgIXV1"
   },
   "outputs": [],
   "source": [
    "from transformers import pipeline, AutoModelForTokenClassification, AutoTokenizer, AutoModelForSequenceClassification"
   ]
  },
  {
   "cell_type": "code",
   "execution_count": 8,
   "metadata": {
    "colab": {},
    "colab_type": "code",
    "id": "K2Rdf1bwIuId"
   },
   "outputs": [],
   "source": [
    "tokenizer= AutoTokenizer.from_pretrained(\"savasy/bert-turkish-text-classification\")\n",
    "model= AutoModelForSequenceClassification.from_pretrained(\"savasy/bert-turkish-text-classification\")"
   ]
  },
  {
   "cell_type": "code",
   "execution_count": 9,
   "metadata": {
    "colab": {},
    "colab_type": "code",
    "id": "IQMhflWaI_pL"
   },
   "outputs": [],
   "source": [
    "nlp=pipeline(\"sentiment-analysis\", model=model, tokenizer=tokenizer)"
   ]
  },
  {
   "cell_type": "code",
   "execution_count": 10,
   "metadata": {
    "colab": {
     "base_uri": "https://localhost:8080/",
     "height": 35
    },
    "colab_type": "code",
    "id": "Z3d_YKePSA4c",
    "outputId": "c73f2323-e982-4683-ec7f-fae48f4e0011"
   },
   "outputs": [
    {
     "data": {
      "text/plain": [
       "[{'label': 'LABEL_2', 'score': 0.4753005802631378}]"
      ]
     },
     "execution_count": 10,
     "metadata": {},
     "output_type": "execute_result"
    }
   ],
   "source": [
    "nlp(\"bla bla\")"
   ]
  },
  {
   "cell_type": "code",
   "execution_count": 11,
   "metadata": {
    "colab": {},
    "colab_type": "code",
    "id": "xrARdTAcSFy1"
   },
   "outputs": [],
   "source": [
    "code_to_label={\n",
    " 'LABEL_0': 'dunya ',\n",
    " 'LABEL_1': 'ekonomi ',\n",
    " 'LABEL_2': 'kultur ',\n",
    " 'LABEL_3': 'saglik ',\n",
    " 'LABEL_4': 'siyaset ',\n",
    " 'LABEL_5': 'spor ',\n",
    " 'LABEL_6': 'teknoloji '}"
   ]
  },
  {
   "cell_type": "code",
   "execution_count": 12,
   "metadata": {
    "colab": {
     "base_uri": "https://localhost:8080/",
     "height": 35
    },
    "colab_type": "code",
    "id": "M5JuD0eYSHDG",
    "outputId": "40af36a8-f6d3-4a1c-bc9e-3693a4072299"
   },
   "outputs": [
    {
     "data": {
      "text/plain": [
       "'kultur '"
      ]
     },
     "execution_count": 12,
     "metadata": {},
     "output_type": "execute_result"
    }
   ],
   "source": [
    "code_to_label[nlp(\"bla bla\")[0]['label']]"
   ]
  },
  {
   "cell_type": "code",
   "execution_count": 30,
   "metadata": {
    "colab": {
     "base_uri": "https://localhost:8080/",
     "height": 198
    },
    "colab_type": "code",
    "id": "9sQKECDgJ8rA",
    "outputId": "4a15feba-a538-4877-f164-5ec93bcb6642"
   },
   "outputs": [
    {
     "data": {
      "text/html": [
       "<div>\n",
       "<style scoped>\n",
       "    .dataframe tbody tr th:only-of-type {\n",
       "        vertical-align: middle;\n",
       "    }\n",
       "\n",
       "    .dataframe tbody tr th {\n",
       "        vertical-align: top;\n",
       "    }\n",
       "\n",
       "    .dataframe thead th {\n",
       "        text-align: right;\n",
       "    }\n",
       "</style>\n",
       "<table border=\"1\" class=\"dataframe\">\n",
       "  <thead>\n",
       "    <tr style=\"text-align: right;\">\n",
       "      <th></th>\n",
       "      <th>text</th>\n",
       "      <th>labels</th>\n",
       "    </tr>\n",
       "  </thead>\n",
       "  <tbody>\n",
       "    <tr>\n",
       "      <th>0</th>\n",
       "      <td>mars tan önemli ipucu ! abd_ulusal_havacılık ...</td>\n",
       "      <td>0</td>\n",
       "    </tr>\n",
       "    <tr>\n",
       "      <th>1</th>\n",
       "      <td>bu sözler sarıgül ü ağlattı şişli den sarıyer...</td>\n",
       "      <td>4</td>\n",
       "    </tr>\n",
       "    <tr>\n",
       "      <th>2</th>\n",
       "      <td>samsung_galaxy s4 bilgileri samsung  un başa...</td>\n",
       "      <td>6</td>\n",
       "    </tr>\n",
       "    <tr>\n",
       "      <th>3</th>\n",
       "      <td>israil den suriye ye uyarı ateşi israil ordus...</td>\n",
       "      <td>0</td>\n",
       "    </tr>\n",
       "    <tr>\n",
       "      <th>4</th>\n",
       "      <td>elvan_abeylegesse yeni sezondan umutlu milli ...</td>\n",
       "      <td>5</td>\n",
       "    </tr>\n",
       "  </tbody>\n",
       "</table>\n",
       "</div>"
      ],
      "text/plain": [
       "                                                text  labels\n",
       "0   mars tan önemli ipucu ! abd_ulusal_havacılık ...       0\n",
       "1   bu sözler sarıgül ü ağlattı şişli den sarıyer...       4\n",
       "2   samsung_galaxy s4 bilgileri samsung  un başa...       6\n",
       "3   israil den suriye ye uyarı ateşi israil ordus...       0\n",
       "4   elvan_abeylegesse yeni sezondan umutlu milli ...       5"
      ]
     },
     "execution_count": 30,
     "metadata": {},
     "output_type": "execute_result"
    }
   ],
   "source": [
    "df.head()"
   ]
  },
  {
   "cell_type": "code",
   "execution_count": null,
   "metadata": {
    "colab": {},
    "colab_type": "code",
    "id": "vjKUdkcZR8lb"
   },
   "outputs": [],
   "source": []
  },
  {
   "cell_type": "code",
   "execution_count": 13,
   "metadata": {
    "colab": {
     "base_uri": "https://localhost:8080/",
     "height": 55
    },
    "colab_type": "code",
    "id": "yq8ArC7kKBi4",
    "outputId": "9217373e-1b79-49e4-fb4e-e3e95f0535ee"
   },
   "outputs": [
    {
     "data": {
      "text/plain": [
       "' altının onsu 1 750 dolar sınırında seyrediyor uluslararası piyasada altının onsu geçtiğimiz hafta gerçekleştirdiği sert yükselişin ardından bugün sınırlı da olsa satıcılı seyrediyor ve 1 750 dolar sınırından işlem görüyor altının onsu geçtiğimiz haftanın son işlem günü yurt içi piyasaların kapanışa yakın saatlerde sert bir şekilde yükselişe geçerek 1 729 dolardan başladığı günü 1 752 dolara kadar yükselmişti analistler altının anlık olarak 1 750 dolar direncinin üzerini görse de bu seviyenin kırıldığından bahsetmek için henüz erken olduğunu belirtiyor teknik analistler altının onsunda 1 750 dolar direncinin kırılması durumunda ters omuz baş omuz tobo formasyonunun teyit edileceğini dolayısıyla stop loss alış emirlerinin gelebileceğini kaydediyor bu durumda altının yükselişine devam etmesinin beklenebileceğini ifade eden analistler sonraki hedeflerin 1 775 ve 1 790 seviyeleri olabileceğini tahmin ediyor'"
      ]
     },
     "execution_count": 13,
     "metadata": {},
     "output_type": "execute_result"
    }
   ],
   "source": [
    "df.text[20]"
   ]
  },
  {
   "cell_type": "code",
   "execution_count": 14,
   "metadata": {
    "colab": {
     "base_uri": "https://localhost:8080/",
     "height": 35
    },
    "colab_type": "code",
    "id": "9q3LLDL1KDzL",
    "outputId": "abe07ddf-cbaa-4351-e93d-12681cc79954"
   },
   "outputs": [
    {
     "data": {
      "text/plain": [
       "[{'label': 'LABEL_1', 'score': 0.9978324174880981}]"
      ]
     },
     "execution_count": 14,
     "metadata": {},
     "output_type": "execute_result"
    }
   ],
   "source": [
    "pr=nlp(df.text[20])\n",
    "pr"
   ]
  },
  {
   "cell_type": "code",
   "execution_count": 15,
   "metadata": {
    "colab": {
     "base_uri": "https://localhost:8080/",
     "height": 35
    },
    "colab_type": "code",
    "id": "KdDltU_VKGhy",
    "outputId": "12fdce74-cdb0-4b9a-c3a1-b83b2d9af0cd"
   },
   "outputs": [
    {
     "data": {
      "text/plain": [
       "'LABEL_1'"
      ]
     },
     "execution_count": 15,
     "metadata": {},
     "output_type": "execute_result"
    }
   ],
   "source": [
    "pr[0]['label']"
   ]
  },
  {
   "cell_type": "code",
   "execution_count": 16,
   "metadata": {
    "colab": {
     "base_uri": "https://localhost:8080/",
     "height": 35
    },
    "colab_type": "code",
    "id": "VjgZeu03KOok",
    "outputId": "adb22c15-7f97-4d99-d771-90a9d5f29121"
   },
   "outputs": [
    {
     "data": {
      "text/plain": [
       "'ekonomi '"
      ]
     },
     "execution_count": 16,
     "metadata": {},
     "output_type": "execute_result"
    }
   ],
   "source": [
    "code_to_label[pr[0]['label']]"
   ]
  },
  {
   "cell_type": "markdown",
   "metadata": {
    "colab": {},
    "colab_type": "code",
    "id": "nGLL9yO_QBeV"
   },
   "source": [
    "## Test the model"
   ]
  },
  {
   "cell_type": "code",
   "execution_count": 18,
   "metadata": {
    "colab": {},
    "colab_type": "code",
    "id": "VxUn5wbpOJOw"
   },
   "outputs": [],
   "source": [
    "preds=nlp(list([t[:300] for t in df.text]))"
   ]
  },
  {
   "cell_type": "code",
   "execution_count": 19,
   "metadata": {
    "colab": {},
    "colab_type": "code",
    "id": "apGUarmiOT0A"
   },
   "outputs": [],
   "source": [
    "preds_codes=[int(p['label'].split(\"_\")[1]) for p in preds]"
   ]
  },
  {
   "cell_type": "code",
   "execution_count": 20,
   "metadata": {
    "colab": {
     "base_uri": "https://localhost:8080/",
     "height": 92
    },
    "colab_type": "code",
    "id": "du2Ye4zmKnpL",
    "outputId": "c8d56a58-24bf-4e9c-ad15-1b05815fa6ab"
   },
   "outputs": [
    {
     "name": "stdout",
     "output_type": "stream",
     "text": [
      "[6, 4, 6, 0, 5, 3, 4, 1, 6, 6, 0, 2, 5, 1, 5, 2, 1, 2, 5, 4, 1, 0, 5, 4, 6, 0, 5, 2, 4, 4, 3, 5, 2, 6, 2, 4, 2, 3, 1, 4, 2, 2, 3, 2, 4, 1, 2, 0, 5, 1, 2, 3, 6, 1, 3, 2, 4, 1, 3, 4, 5, 0, 4, 6, 5, 5, 2, 5, 5, 2, 1, 5, 1, 0, 6, 1, 3, 6, 4, 6, 5, 6, 4, 3, 0, 6, 0, 5, 4, 3, 3, 2, 6, 4, 6, 0, 6, 5, 6, 6, 4, 5, 6, 6, 0, 5, 5, 2, 4, 6, 3, 5, 2, 5, 2, 2, 6, 6, 0, 5, 3, 4, 4, 5, 2, 4, 2, 5, 1, 6, 3, 2, 5, 1, 2, 1, 0, 5, 6, 3, 1, 1, 1, 1, 2, 2, 4, 5, 0, 1, 6, 1, 6, 2, 0, 1, 5, 1, 5, 0, 1, 4, 3, 0, 6, 6, 2, 4, 6, 0, 5, 2, 6, 5, 5, 0, 1, 6, 1, 4, 0, 2, 3, 0, 6, 0, 2, 3, 3, 5, 4, 4, 3, 1, 3, 6, 4, 5, 1]\n",
      "#\n",
      "[0, 4, 6, 0, 5, 3, 4, 1, 6, 6, 0, 2, 5, 1, 5, 2, 1, 2, 5, 4, 1, 0, 5, 4, 6, 0, 5, 2, 4, 4, 3, 5, 2, 6, 2, 4, 2, 3, 1, 4, 2, 2, 3, 2, 4, 1, 2, 0, 5, 1, 2, 3, 6, 1, 3, 2, 4, 1, 3, 4, 5, 0, 4, 6, 5, 5, 2, 5, 5, 2, 1, 5, 1, 0, 6, 1, 3, 6, 4, 6, 5, 6, 4, 3, 0, 6, 0, 5, 4, 3, 3, 2, 6, 4, 6, 0, 6, 5, 6, 6, 4, 5, 6, 6, 0, 5, 5, 2, 4, 6, 3, 5, 2, 5, 2, 2, 6, 6, 0, 5, 3, 4, 4, 5, 2, 4, 2, 5, 1, 6, 3, 2, 5, 1, 2, 1, 0, 5, 6, 3, 1, 1, 1, 1, 2, 2, 4, 5, 0, 1, 6, 0, 6, 2, 0, 1, 5, 1, 5, 0, 1, 4, 3, 0, 6, 6, 2, 4, 6, 0, 5, 2, 6, 5, 5, 0, 1, 6, 1, 4, 0, 2, 3, 0, 6, 0, 2, 3, 3, 5, 4, 4, 3, 1, 3, 6, 4, 5, 1]\n"
     ]
    }
   ],
   "source": [
    "print(preds_codes)\n",
    "print(\"#\")\n",
    "print(list(df.labels))"
   ]
  },
  {
   "cell_type": "code",
   "execution_count": 21,
   "metadata": {
    "colab": {
     "base_uri": "https://localhost:8080/",
     "height": 35
    },
    "colab_type": "code",
    "id": "YdSPIl7LRHh5",
    "outputId": "1668764a-bfe8-4d54-bfe8-662253c2e4c6"
   },
   "outputs": [
    {
     "data": {
      "text/plain": [
       "0.9899497487437185"
      ]
     },
     "execution_count": 21,
     "metadata": {},
     "output_type": "execute_result"
    }
   ],
   "source": [
    "sum(preds_codes ==df.labels) / len(preds)"
   ]
  },
  {
   "cell_type": "code",
   "execution_count": 0,
   "metadata": {
    "colab": {},
    "colab_type": "code",
    "id": "S5_fnlWXMrGQ"
   },
   "outputs": [],
   "source": []
  },
  {
   "cell_type": "code",
   "execution_count": 0,
   "metadata": {
    "colab": {},
    "colab_type": "code",
    "id": "qqCU5KedODjP"
   },
   "outputs": [],
   "source": []
  }
 ],
 "metadata": {
  "accelerator": "GPU",
  "colab": {
   "collapsed_sections": [],
   "name": "Bert-base Text Classification for Turkish.ipynb",
   "provenance": []
  },
  "kernelspec": {
   "display_name": "Python 3",
   "language": "python",
   "name": "python3"
  },
  "language_info": {
   "codemirror_mode": {
    "name": "ipython",
    "version": 3
   },
   "file_extension": ".py",
   "mimetype": "text/x-python",
   "name": "python",
   "nbconvert_exporter": "python",
   "pygments_lexer": "ipython3",
   "version": "3.7.5"
  }
 },
 "nbformat": 4,
 "nbformat_minor": 1
}
